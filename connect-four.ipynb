{
 "cells": [
  {
   "cell_type": "markdown",
   "metadata": {},
   "source": [
    "Copyright **`(c)`** 2021 Giovanni Squillero `<squillero@polito.it>`  \n",
    "[`https://github.com/squillero/computational-intelligence`](https://github.com/squillero/computational-intelligence)  \n",
    "Free for personal or classroom use; see 'LICENCE.md' for details."
   ]
  },
  {
   "cell_type": "markdown",
   "metadata": {},
   "source": [
    "# Connect 4"
   ]
  },
  {
   "cell_type": "code",
   "execution_count": null,
   "metadata": {},
   "outputs": [],
   "source": [
    "from collections import Counter\n",
    "import numpy as np\n",
    "import math"
   ]
  },
  {
   "cell_type": "code",
   "execution_count": null,
   "metadata": {},
   "outputs": [],
   "source": [
    "NUM_COLUMNS = 7\n",
    "COLUMN_HEIGHT = 6\n",
    "FOUR = 4\n",
    "\n",
    "# Board can be initiatilized with `board = np.zeros((NUM_COLUMNS, COLUMN_HEIGHT), dtype=np.byte)`\n",
    "# Notez Bien: Connect 4 \"columns\" are actually NumPy \"rows\""
   ]
  },
  {
   "cell_type": "markdown",
   "metadata": {},
   "source": [
    "## Basic Functions"
   ]
  },
  {
   "cell_type": "code",
   "execution_count": null,
   "metadata": {},
   "outputs": [],
   "source": [
    "def valid_moves(board):\n",
    "    \"\"\"Returns columns where a disc may be played\"\"\"\n",
    "    return [n for n in range(NUM_COLUMNS) if board[n, COLUMN_HEIGHT - 1] == 0]\n",
    "\n",
    "\n",
    "def play(board, column, player):\n",
    "    \"\"\"Updates `board` as `player` drops a disc in `column`\"\"\"\n",
    "    (index,) = next((i for i, v in np.ndenumerate(board[column]) if v == 0))\n",
    "    board[column, index] = player\n",
    "\n",
    "\n",
    "def take_back(board, column):\n",
    "    \"\"\"Updates `board` removing top disc from `column`\"\"\"\n",
    "    (index,) = [i for i, v in np.ndenumerate(board[column]) if v != 0][-1]\n",
    "    board[column, index] = 0\n",
    "\n",
    "\n",
    "def four_in_a_row(board, player):\n",
    "    \"\"\"Checks if `player` has a 4-piece line\"\"\"\n",
    "    return (\n",
    "        any(\n",
    "            all(board[c, r] == player)\n",
    "            for c in range(NUM_COLUMNS)\n",
    "            for r in (list(range(n, n + FOUR)) for n in range(COLUMN_HEIGHT - FOUR + 1))\n",
    "        )\n",
    "        or any(\n",
    "            all(board[c, r] == player)\n",
    "            for r in range(COLUMN_HEIGHT)\n",
    "            for c in (list(range(n, n + FOUR)) for n in range(NUM_COLUMNS - FOUR + 1))\n",
    "        )\n",
    "        or any(\n",
    "            np.all(board[diag] == player)\n",
    "            for diag in (\n",
    "                (range(ro, ro + FOUR), range(co, co + FOUR))\n",
    "                for ro in range(0, NUM_COLUMNS - FOUR + 1)\n",
    "                for co in range(0, COLUMN_HEIGHT - FOUR + 1)\n",
    "            )\n",
    "        )\n",
    "        or any(\n",
    "            np.all(board[diag] == player)\n",
    "            for diag in (\n",
    "                (range(ro, ro + FOUR), range(co + FOUR - 1, co - 1, -1))\n",
    "                for ro in range(0, NUM_COLUMNS - FOUR + 1)\n",
    "                for co in range(0, COLUMN_HEIGHT - FOUR + 1)\n",
    "            )\n",
    "        )\n",
    "    )"
   ]
  },
  {
   "cell_type": "markdown",
   "metadata": {},
   "source": [
    "## MinMax"
   ]
  },
  {
   "cell_type": "code",
   "execution_count": null,
   "metadata": {},
   "outputs": [],
   "source": [
    "def other(player):\n",
    "    return player * -1;\n",
    "\n",
    "def score_is_better(score, current_best, player):\n",
    "    if player == 1:\n",
    "        return score > current_best\n",
    "    else:\n",
    "        return score < current_best\n",
    "\n",
    "def update_alpha_beta(alpha, beta, best_score, player):\n",
    "    if player == 1:\n",
    "        return max(alpha, best_score), beta\n",
    "    else:\n",
    "        return alpha, min(beta, best_score)\n",
    "\n",
    "def count_streaks(board, player, length):\n",
    "    \"\"\"Checks how many length-piece lines the player has\"\"\"\n",
    "    return (\n",
    "        sum(\n",
    "            all(board[c, r] == player)\n",
    "            for c in range(NUM_COLUMNS)\n",
    "            for r in (list(range(n, n + length)) for n in range(COLUMN_HEIGHT - length + 1))\n",
    "        )\n",
    "        + sum(\n",
    "            all(board[c, r] == player)\n",
    "            for r in range(COLUMN_HEIGHT)\n",
    "            for c in (list(range(n, n + length)) for n in range(NUM_COLUMNS - length + 1))\n",
    "        )\n",
    "        + sum(\n",
    "            np.all(board[diag] == player)\n",
    "            for diag in (\n",
    "                (range(ro, ro + length), range(co, co + length))\n",
    "                for ro in range(0, NUM_COLUMNS - length + 1)\n",
    "                for co in range(0, COLUMN_HEIGHT - length + 1)\n",
    "            )\n",
    "        )\n",
    "        + sum(\n",
    "            np.all(board[diag] == player)\n",
    "            for diag in (\n",
    "                (range(ro, ro + length), range(co + length - 1, co - 1, -1))\n",
    "                for ro in range(0, NUM_COLUMNS - length + 1)\n",
    "                for co in range(0, COLUMN_HEIGHT - length + 1)\n",
    "            )\n",
    "        )\n",
    "    )\n",
    "\n",
    "def eval(board):\n",
    "    score = 0\n",
    "    score += 20 * count_streaks(board, 1, 3)\n",
    "    score -= 20 * count_streaks(board, -1, 3)\n",
    "    score += 5 * count_streaks(board, 1, 2)\n",
    "    score -= 5 * count_streaks(board, -1, 2)\n",
    "    print(score)\n",
    "    return score\n",
    "\n",
    "def check_win(score, player):\n",
    "    return (player * score) == math.inf\n",
    "\n",
    "def minmax(board, depth, alpha, beta, player):\n",
    "    if four_in_a_row(board, player):\n",
    "        return None, (player * math.inf)\n",
    "    elif four_in_a_row(board, other(player)):\n",
    "        return None, (other(player) * math.inf)\n",
    "    if depth == 0:\n",
    "        return None, eval(board)\n",
    "    best_score = other(player) * math.inf\n",
    "    best_move = None\n",
    "    for c in valid_moves(board):\n",
    "        play(board, c, player)\n",
    "        score = minmax(board, depth - 1, alpha, beta, other(player))[1]\n",
    "        take_back(board, c)\n",
    "        if score_is_better(score, best_score, player):\n",
    "            best_score = score\n",
    "            best_move = c\n",
    "        alpha, beta = update_alpha_beta(alpha, beta, best_score, player)\n",
    "        if alpha >= beta:\n",
    "            break\n",
    "    if best_move is None: # tie\n",
    "        best_score = 0\n",
    "    return best_move, best_score\n"
   ]
  },
  {
   "cell_type": "markdown",
   "metadata": {},
   "source": [
    "## Montecarlo Evaluation"
   ]
  },
  {
   "cell_type": "code",
   "execution_count": null,
   "metadata": {},
   "outputs": [],
   "source": [
    "def _mc(board, player):\n",
    "    p = -player\n",
    "    while valid_moves(board):\n",
    "        p = -p\n",
    "        c = np.random.choice(valid_moves(board))\n",
    "        play(board, c, p)\n",
    "        if four_in_a_row(board, p):\n",
    "            return p\n",
    "    return 0\n",
    "\n",
    "\n",
    "def montecarlo(board, player):\n",
    "    montecarlo_samples = 100\n",
    "    cnt = Counter(_mc(np.copy(board), player) for _ in range(montecarlo_samples))\n",
    "    return (cnt[1] - cnt[-1]) / montecarlo_samples\n",
    "\n",
    "\n",
    "def eval_board(board, player):\n",
    "    if four_in_a_row(board, 1):\n",
    "        # Alice won\n",
    "        return 1\n",
    "    elif four_in_a_row(board, -1):\n",
    "        # Bob won\n",
    "        return -1\n",
    "    else:\n",
    "        # Not terminal, let's simulate...\n",
    "        return montecarlo(board, player)"
   ]
  },
  {
   "cell_type": "markdown",
   "metadata": {},
   "source": [
    "## Example"
   ]
  },
  {
   "cell_type": "code",
   "execution_count": null,
   "metadata": {},
   "outputs": [],
   "source": [
    "board = board = np.zeros((NUM_COLUMNS, COLUMN_HEIGHT), dtype=np.byte)\n",
    "play(board, 3, 1)\n",
    "play(board, 0, -1)\n",
    "play(board, 4, 1)\n",
    "play(board, 0, -1)\n",
    "play(board, 5, 1)\n",
    "print(board)\n",
    "eval_board(board, 1)"
   ]
  },
  {
   "cell_type": "code",
   "execution_count": null,
   "metadata": {},
   "outputs": [],
   "source": [
    "board = np.zeros((NUM_COLUMNS, COLUMN_HEIGHT), dtype=np.byte)\n",
    "player = 1\n",
    "alpha = -math.inf\n",
    "beta = math.inf\n",
    "\n",
    "while True:\n",
    "    next_move, score = minmax(board, 5, alpha, beta, player)\n",
    "    if check_win(score, player):\n",
    "        break\n",
    "    play(board, next_move, player)\n",
    "    print(board)\n",
    "    print()\n",
    "    player = other(player)"
   ]
  }
 ],
 "metadata": {
  "interpreter": {
   "hash": "371627151b0642f6c185c280fa16312776bda89bbb063ce0f2d8135c657194f4"
  },
  "kernelspec": {
   "display_name": "Python 3.8.2 64-bit ('ci2021': conda)",
   "name": "python3"
  },
  "language_info": {
   "codemirror_mode": {
    "name": "ipython",
    "version": 3
   },
   "file_extension": ".py",
   "mimetype": "text/x-python",
   "name": "python",
   "nbconvert_exporter": "python",
   "pygments_lexer": "ipython3",
   "version": "3.9.7"
  },
  "orig_nbformat": 4
 },
 "nbformat": 4,
 "nbformat_minor": 2
}
