{
 "cells": [
  {
   "cell_type": "markdown",
   "metadata": {},
   "source": [
    "Copyright **`(c)`** 2021 Giovanni Squillero `<squillero@polito.it>`  \n",
    "[`https://github.com/squillero/computational-intelligence`](https://github.com/squillero/computational-intelligence)  \n",
    "Free for personal or classroom use; see 'LICENCE.md' for details."
   ]
  },
  {
   "cell_type": "markdown",
   "metadata": {},
   "source": [
    "# Connect 4"
   ]
  },
  {
   "cell_type": "code",
   "execution_count": null,
   "metadata": {},
   "outputs": [],
   "source": [
    "from collections import Counter\n",
    "import numpy as np\n"
   ]
  },
  {
   "cell_type": "code",
   "execution_count": null,
   "metadata": {},
   "outputs": [],
   "source": [
    "NUM_COLUMNS = 7\n",
    "COLUMN_HEIGHT = 6\n",
    "FOUR = 4\n",
    "\n",
    "# Board can be initiatilized with `board = np.zeros((NUM_COLUMNS, COLUMN_HEIGHT), dtype=np.byte)`\n",
    "# Notez Bien: Connect 4 \"columns\" are actually NumPy \"rows\"\n"
   ]
  },
  {
   "cell_type": "markdown",
   "metadata": {},
   "source": [
    "## Basic Functions"
   ]
  },
  {
   "cell_type": "code",
   "execution_count": null,
   "metadata": {},
   "outputs": [],
   "source": [
    "def sorted_valid_moves(board):\n",
    "    center = NUM_COLUMNS // 2\n",
    "    columns = [center]\n",
    "    for i in range(center):\n",
    "        i += 1\n",
    "        col = center - i\n",
    "        if col >= 0:\n",
    "            columns.append(col)\n",
    "        col = center + i\n",
    "        if col < NUM_COLUMNS:\n",
    "            columns.append(col)\n",
    "    return [n for n in columns if board[n, COLUMN_HEIGHT - 1] == 0]\n"
   ]
  },
  {
   "cell_type": "code",
   "execution_count": null,
   "metadata": {},
   "outputs": [],
   "source": [
    "def valid_moves(board):\n",
    "    \"\"\"Returns columns where a disc may be played\"\"\"\n",
    "    return [n for n in range(NUM_COLUMNS) if board[n, COLUMN_HEIGHT - 1] == 0]\n",
    "\n",
    "\n",
    "def play(board, column, player):\n",
    "    \"\"\"Updates `board` as `player` drops a disc in `column`\"\"\"\n",
    "    (index,) = next((i for i, v in np.ndenumerate(board[column]) if v == 0))\n",
    "    board[column, index] = player\n",
    "\n",
    "\n",
    "def take_back(board, column):\n",
    "    \"\"\"Updates `board` removing top disc from `column`\"\"\"\n",
    "    (index,) = [i for i, v in np.ndenumerate(board[column]) if v != 0][-1]\n",
    "    board[column, index] = 0\n",
    "\n",
    "\n",
    "def four_in_a_row(board, player):\n",
    "    \"\"\"Checks if `player` has a 4-piece line\"\"\"\n",
    "    return (\n",
    "        any(\n",
    "            all(board[c, r] == player)\n",
    "            for c in range(NUM_COLUMNS)\n",
    "            for r in (list(range(n, n + FOUR)) for n in range(COLUMN_HEIGHT - FOUR + 1))\n",
    "        )\n",
    "        or any(\n",
    "            all(board[c, r] == player)\n",
    "            for r in range(COLUMN_HEIGHT)\n",
    "            for c in (list(range(n, n + FOUR)) for n in range(NUM_COLUMNS - FOUR + 1))\n",
    "        )\n",
    "        or any(\n",
    "            np.all(board[diag] == player)\n",
    "            for diag in (\n",
    "                (range(ro, ro + FOUR), range(co, co + FOUR))\n",
    "                for ro in range(0, NUM_COLUMNS - FOUR + 1)\n",
    "                for co in range(0, COLUMN_HEIGHT - FOUR + 1)\n",
    "            )\n",
    "        )\n",
    "        or any(\n",
    "            np.all(board[diag] == player)\n",
    "            for diag in (\n",
    "                (range(ro, ro + FOUR), range(co + FOUR - 1, co - 1, -1))\n",
    "                for ro in range(0, NUM_COLUMNS - FOUR + 1)\n",
    "                for co in range(0, COLUMN_HEIGHT - FOUR + 1)\n",
    "            )\n",
    "        )\n",
    "    )\n"
   ]
  },
  {
   "cell_type": "markdown",
   "metadata": {},
   "source": [
    "## Montecarlo Evaluation"
   ]
  },
  {
   "cell_type": "code",
   "execution_count": null,
   "metadata": {},
   "outputs": [],
   "source": [
    "def _mc(board, player):\n",
    "    p = -player\n",
    "    while valid_moves(board):\n",
    "        p = -p\n",
    "        c = np.random.choice(valid_moves(board))\n",
    "        play(board, c, p)\n",
    "        if four_in_a_row(board, p):\n",
    "            return p\n",
    "    return 0\n",
    "\n",
    "\n",
    "def montecarlo(board, player):\n",
    "    montecarlo_samples = 100\n",
    "    cnt = Counter(_mc(np.copy(board), player) for _ in range(montecarlo_samples))\n",
    "    return (cnt[1] - cnt[-1]) / montecarlo_samples\n",
    "\n",
    "\n",
    "def eval_board(board, player):\n",
    "    if four_in_a_row(board, 1):\n",
    "        # Alice won\n",
    "        return 1\n",
    "    elif four_in_a_row(board, -1):\n",
    "        # Bob won\n",
    "        return -1\n",
    "    else:\n",
    "        # Not terminal, let's simulate...\n",
    "        return montecarlo(board, player)\n"
   ]
  },
  {
   "cell_type": "markdown",
   "metadata": {},
   "source": [
    "## Minmax"
   ]
  },
  {
   "cell_type": "code",
   "execution_count": null,
   "metadata": {},
   "outputs": [],
   "source": [
    "import math\n"
   ]
  },
  {
   "cell_type": "markdown",
   "metadata": {},
   "source": [
    "### Heuristic static evaluation\n",
    "\n",
    "Consider all the 4-in-a-row sequences without any opponent's piece and give them a score based on how many pieces they contain:\n",
    "* 3 pieces -> 30 (3*10)\n",
    "* 2 pieces -> 2\n",
    "* 1 piece -> 1\n",
    "* 0 pieces -> 0\n",
    "\n",
    "The scores will carry the player's sign (+ or -)"
   ]
  },
  {
   "cell_type": "code",
   "execution_count": null,
   "metadata": {},
   "outputs": [],
   "source": [
    "def eval_for_player(board, player):\n",
    "    possibilites = np.array(\n",
    "        [\n",
    "            np.sum(board[c, r])\n",
    "            for c in range(NUM_COLUMNS)\n",
    "            for r in (list(range(n, n + FOUR)) for n in range(COLUMN_HEIGHT - FOUR + 1))\n",
    "            if -player not in board[c, r]\n",
    "        ]\n",
    "        + [\n",
    "            np.sum(board[c, r])\n",
    "            for r in range(COLUMN_HEIGHT)\n",
    "            for c in (list(range(n, n + FOUR)) for n in range(NUM_COLUMNS - FOUR + 1))\n",
    "            if -player not in board[c, r]\n",
    "        ]\n",
    "        + [\n",
    "            np.sum(board[diag])\n",
    "            for diag in (\n",
    "                (range(ro, ro + FOUR), range(co, co + FOUR))\n",
    "                for ro in range(0, NUM_COLUMNS - FOUR + 1)\n",
    "                for co in range(0, COLUMN_HEIGHT - FOUR + 1)\n",
    "            )\n",
    "            if -player not in board[diag]\n",
    "        ]\n",
    "        + [\n",
    "            np.sum(board[diag])\n",
    "            for diag in (\n",
    "                (range(ro, ro + FOUR), range(co + FOUR - 1, co - 1, -1))\n",
    "                for ro in range(0, NUM_COLUMNS - FOUR + 1)\n",
    "                for co in range(0, COLUMN_HEIGHT - FOUR + 1)\n",
    "            )\n",
    "            if -player not in board[diag]\n",
    "        ]\n",
    "    )\n",
    "\n",
    "    return np.sum(np.where(np.abs(possibilites) == 3, possibilites * 10, possibilites))\n",
    "\n",
    "\n",
    "def eval(board):\n",
    "    return eval_for_player(board, 1) + eval_for_player(board, -1)\n"
   ]
  },
  {
   "cell_type": "markdown",
   "metadata": {},
   "source": [
    "### Minmax with alpha-beta pruning"
   ]
  },
  {
   "cell_type": "code",
   "execution_count": null,
   "metadata": {},
   "outputs": [],
   "source": [
    "def score_is_better(score, current_best, player):\n",
    "    if player == 1:\n",
    "        return score > current_best\n",
    "    else:\n",
    "        return score < current_best\n",
    "\n",
    "\n",
    "def update_alpha_beta(alpha, beta, best_score, player):\n",
    "    if player == 1:\n",
    "        return max(alpha, best_score), beta\n",
    "    else:\n",
    "        return alpha, min(beta, best_score)\n",
    "\n",
    "\n",
    "def minmax(board, depth, alpha, beta, player):\n",
    "    if four_in_a_row(board, player):\n",
    "        return None, (player * math.inf)\n",
    "    elif four_in_a_row(board, -player):\n",
    "        return None, (-player * math.inf)\n",
    "    if depth == 0:\n",
    "        return None, eval(board)\n",
    "    best_score = -player * math.inf\n",
    "    best_move = None\n",
    "    for c in sorted_valid_moves(board):\n",
    "        # if there are valid moves, initialize the best move to the first available\n",
    "        # this way, if there are no good moves available, we will just choose the first one\n",
    "        if best_move is None:\n",
    "            best_move = c\n",
    "        play(board, c, player)\n",
    "        _, score = minmax(board, depth - 1, alpha, beta, -player)\n",
    "        take_back(board, c)\n",
    "        if score_is_better(score, best_score, player):\n",
    "            best_score = score\n",
    "            best_move = c\n",
    "        alpha, beta = update_alpha_beta(alpha, beta, best_score, player)\n",
    "        if alpha >= beta:\n",
    "            break\n",
    "    return best_move, best_score\n"
   ]
  },
  {
   "cell_type": "markdown",
   "metadata": {},
   "source": [
    "## Example"
   ]
  },
  {
   "cell_type": "code",
   "execution_count": null,
   "metadata": {},
   "outputs": [],
   "source": [
    "SYMBOLS = {1: \"X\", -1: \"O\", 0: \"-\"}\n",
    "\n",
    "\n",
    "def print_board(board):\n",
    "    for r in reversed(range(COLUMN_HEIGHT)):\n",
    "        print(\"|\", end=\" \")\n",
    "        for c in range(NUM_COLUMNS):\n",
    "            print(SYMBOLS[board[c][r]], end=\" \")\n",
    "        print(\"|\")\n",
    "\n",
    "\n",
    "def check_win(board):\n",
    "    for player in [1, -1]:\n",
    "        if four_in_a_row(board, player):\n",
    "            return player\n",
    "    return 0\n"
   ]
  },
  {
   "cell_type": "code",
   "execution_count": null,
   "metadata": {},
   "outputs": [],
   "source": [
    "board = np.zeros((NUM_COLUMNS, COLUMN_HEIGHT), dtype=np.byte)\n",
    "player = 1\n",
    "alpha = -math.inf\n",
    "beta = math.inf\n",
    "\n",
    "print_board(board)\n",
    "\n",
    "winner = 0\n",
    "\n",
    "while valid_moves(board):\n",
    "    print()\n",
    "    next_move, score = minmax(board, 5, alpha, beta, player)\n",
    "    play(board, next_move, player)\n",
    "    print_board(board)\n",
    "    winner = check_win(board)\n",
    "    if winner != 0:\n",
    "        print(f\"Player {SYMBOLS[winner]} won\")\n",
    "        break\n",
    "    player = -player\n",
    "\n",
    "if winner == 0:\n",
    "    print(\"Draw\")\n"
   ]
  },
  {
   "cell_type": "markdown",
   "metadata": {},
   "source": [
    "## MCTS (NOT WORKING CORRECTLY)"
   ]
  },
  {
   "cell_type": "code",
   "execution_count": null,
   "metadata": {},
   "outputs": [],
   "source": [
    "import random\n"
   ]
  },
  {
   "cell_type": "code",
   "execution_count": null,
   "metadata": {},
   "outputs": [],
   "source": [
    "# Upper Confidence Bound\n",
    "def ucb(s_p, s, w):\n",
    "    return (w / s) + math.sqrt(math.log(s_p) / s)\n"
   ]
  },
  {
   "cell_type": "code",
   "execution_count": null,
   "metadata": {},
   "outputs": [],
   "source": [
    "class node:\n",
    "    def __init__(self, parent, board, player):\n",
    "        self.state = board\n",
    "        self.player = player\n",
    "        self.children = set()\n",
    "        self.parent = parent\n",
    "        self.simulations = 0\n",
    "        self.wins = 0\n",
    "\n",
    "    def select(self):\n",
    "        best_node = self\n",
    "        while best_node.children and all(\n",
    "            child.simulations > 0 for child in best_node.children\n",
    "        ):\n",
    "            best_node = max(best_node.children, key=lambda child: child.get_ucb())\n",
    "        return best_node\n",
    "\n",
    "    def expand(self):\n",
    "        if not self.children:\n",
    "            for c in valid_moves(self.state):\n",
    "                play(self.state, c, self.player)\n",
    "                self.children.add(node(self, np.copy(self.state), -self.player))\n",
    "                take_back(self.state, c)\n",
    "\n",
    "    def simulate(self):\n",
    "        winner = _mc(np.copy(self.state), self.player)\n",
    "\n",
    "        # backpropagation\n",
    "        node = self\n",
    "        while node is not None:\n",
    "            node.simulations += 1\n",
    "            if winner != node.player:\n",
    "                node.wins += 1\n",
    "            node = node.parent\n",
    "\n",
    "    def get_ucb(self):\n",
    "        if not self.parent:\n",
    "            return None\n",
    "        return ucb(self.parent.simulations, self.simulations, self.wins)\n"
   ]
  },
  {
   "cell_type": "code",
   "execution_count": null,
   "metadata": {},
   "outputs": [],
   "source": [
    "def is_terminal(board):\n",
    "    if not valid_moves(board):\n",
    "        return True\n",
    "    for p in [-1, 1]:\n",
    "        if four_in_a_row(board, p):\n",
    "            return True\n",
    "    return False\n",
    "\n",
    "\n",
    "def run_mcts(node):\n",
    "    node = node.select()  # select node using ucb\n",
    "    if is_terminal(node.state):\n",
    "        return\n",
    "    node.expand()\n",
    "    node = random.choice([child for child in node.children if child.simulations == 0])\n",
    "    node.simulate()\n",
    "\n",
    "\n",
    "def get_best(node):\n",
    "    if not node.children:\n",
    "        return None\n",
    "    return max(node.children, key=lambda child: child.wins / child.simulations)\n"
   ]
  },
  {
   "cell_type": "code",
   "execution_count": null,
   "metadata": {},
   "outputs": [],
   "source": [
    "root = node(None, np.zeros((NUM_COLUMNS, COLUMN_HEIGHT), dtype=np.byte), 1)\n",
    "current_node = root\n",
    "\n",
    "while valid_moves(current_node.state):\n",
    "    print_board(current_node.state)\n",
    "    for _ in range(100):\n",
    "        run_mcts(current_node)\n",
    "    for p in [-1, 1]:\n",
    "        if four_in_a_row(current_node.state, p):\n",
    "            print(f\"Player {SYMBOLS[p]} won\")\n",
    "    current_node = get_best(current_node)\n",
    "    if current_node is None:\n",
    "        break\n",
    "    print()\n"
   ]
  }
 ],
 "metadata": {
  "interpreter": {
   "hash": "371627151b0642f6c185c280fa16312776bda89bbb063ce0f2d8135c657194f4"
  },
  "kernelspec": {
   "display_name": "Python 3.8.2 64-bit ('ci2021': conda)",
   "name": "python3"
  },
  "language_info": {
   "codemirror_mode": {
    "name": "ipython",
    "version": 3
   },
   "file_extension": ".py",
   "mimetype": "text/x-python",
   "name": "python",
   "nbconvert_exporter": "python",
   "pygments_lexer": "ipython3",
   "version": "3.8.2"
  },
  "orig_nbformat": 4
 },
 "nbformat": 4,
 "nbformat_minor": 2
}
